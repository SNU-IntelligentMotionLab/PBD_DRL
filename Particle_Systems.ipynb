{
 "cells": [
  {
   "cell_type": "markdown",
   "metadata": {},
   "source": [
    "# Installation"
   ]
  },
  {
   "cell_type": "code",
   "execution_count": 9,
   "metadata": {},
   "outputs": [],
   "source": [
    "# !pip install pythreejs\n",
    "# !pip install numpy, scipy\n",
    "# !pip install notebook==6.5.4\n",
    "# !pip install jupyter_contrib_nbextensions\n",
    "# !jupyter contrib nbextension install --user"
   ]
  },
  {
   "cell_type": "code",
   "execution_count": 10,
   "metadata": {},
   "outputs": [],
   "source": [
    "import numpy as np\n",
    "import time"
   ]
  },
  {
   "cell_type": "markdown",
   "metadata": {},
   "source": [
    "# Particle"
   ]
  },
  {
   "cell_type": "code",
   "execution_count": 11,
   "metadata": {},
   "outputs": [],
   "source": [
    "class Particle:\n",
    "    def __init__(self, pos, vel, mass):\n",
    "        self.position = pos\n",
    "        self.velocity = vel\n",
    "        self.force = np.array([0, 0, 0])\n",
    "        self.mass = mass\n",
    "        \n",
    "    def clear_force(self):\n",
    "        self.force = np.array([0, 0, 0])"
   ]
  },
  {
   "cell_type": "markdown",
   "metadata": {},
   "source": [
    "# Forces"
   ]
  },
  {
   "cell_type": "code",
   "execution_count": null,
   "metadata": {},
   "outputs": [],
   "source": [
    "# Types of forces\n",
    "# 1. Constant e.g. gravity\n",
    "# 2. position dependent e.g. forces fields, winds\n",
    "# 3. velocity dependent e.g. drag, friction\n",
    "# 4. n-ary e.g. springs\n",
    "# 5. collision\n",
    "\n",
    "class Force:\n",
    "    def apply(self, particles):\n",
    "        pass\n",
    "\n",
    "class Gravity(Force):\n",
    "    def __init__(self, gravity=np.array([0, -9.8, 0])):\n",
    "        self.G = gravity\n",
    "        \n",
    "    def apply(self, particles):\n",
    "        for p in particles:\n",
    "            p.force += p.mass * self.G\n",
    "\n",
    "class Drag(Force):\n",
    "    def __init__(self, k_drag=0.1):\n",
    "        self.k_drag = k_drag\n",
    "        \n",
    "    def apply(self, particles):\n",
    "        for p in particles:\n",
    "            p.force += -self.k_drag * p.velocity\n",
    "\n",
    "class Spring(Force):\n",
    "    def __init__(self, particle1, particle2,  k_s, k_d, l0):\n",
    "        self.p1 = particle1\n",
    "        self.p2 = particle2\n",
    "        self.k_s = k_s\n",
    "        self.k_d = k_d\n",
    "        self.l0 = l0\n",
    "        \n",
    "    def apply(self, particles):\n",
    "        x1 = self.p1.position\n",
    "        x2 = self.p2.position\n",
    "        \n",
    "        l = x1 - x2\n",
    "        l_dot = self.p1.velocity - self.p2.velocity\n",
    "        length = np.linalg.norm(l)\n",
    "        \n",
    "        f = -(self.k_s * (length - self.l0) + self.k_d * np.dot(l_dot, l) / length) * l / length\n",
    "        \n",
    "        self.p1.force += f\n",
    "        self.p2.force += -f\n",
    "        \n",
    "class Collision(Force):\n",
    "    pass"
   ]
  },
  {
   "cell_type": "markdown",
   "metadata": {},
   "source": [
    "# Particle System"
   ]
  },
  {
   "cell_type": "code",
   "execution_count": 13,
   "metadata": {},
   "outputs": [],
   "source": [
    "class ParticleSystem:\n",
    "    def __init__(self, particles=None, forces=None,):\n",
    "        \n",
    "        self.particles = []\n",
    "        self.forces = []\n",
    "        \n",
    "        \n",
    "    def add_particle(self, particle):\n",
    "        if isinstance(particle, list):\n",
    "            self.particles.extend(particle)\n",
    "            \n",
    "        elif isinstance(particle, Particle):       \n",
    "            self.particles.append(particle)\n",
    "        \n",
    "        else:\n",
    "            raise ValueError(\"Invalid particle type\")\n",
    "        \n",
    "    def add_force(self, force):\n",
    "        if isinstance(force, list):\n",
    "            self.forces.extend(force)\n",
    "            \n",
    "        elif isinstance(force, Force):       \n",
    "            self.forces.append(force)\n",
    "        \n",
    "        else:\n",
    "            raise ValueError(\"Invalid force type\")\n",
    "    \n",
    "    def evaluate_derivative(self,):\n",
    "        # (1) Loop over particles, zero force accumulators\n",
    "        for p in self.particles:\n",
    "            p.clear_force()\n",
    "        \n",
    "        # (2) Calculate forces by invoking apply functions, sum all forces into accumulators\n",
    "        for f in self.forces:\n",
    "            f.apply(self.particles)\n",
    "        \n",
    "    \n",
    "    def render(self,):\n",
    "        pass"
   ]
  },
  {
   "cell_type": "markdown",
   "metadata": {},
   "source": [
    "# Numerical Method"
   ]
  },
  {
   "cell_type": "code",
   "execution_count": 14,
   "metadata": {},
   "outputs": [],
   "source": [
    "class Integrator:\n",
    "    def solve(self, particle_system, time_step):\n",
    "        pass\n",
    "    \n",
    "class Euler(Integrator):\n",
    "    def solve(self, particle_system, time_step):\n",
    "        \n",
    "        particle_system.evaluate_derivative()\n",
    "        \n",
    "        for p in particle_system.particles:\n",
    "            a = p.force / p.mass\n",
    "            p.velocity += a * time_step\n",
    "            p.position += p.velocity * time_step\n",
    "            \n",
    "    def solve_adaptive(self, particle_system, init_time_step, tol):\n",
    "        #TODO\n",
    "        pass\n",
    "            \n",
    "\n",
    "class Midpoint(Integrator):\n",
    "    def solve(self, particle_system, time_step):\n",
    "        \n",
    "        # Save initial position and velocity\n",
    "        init_position = [p.position.copy() for p in particle_system.particles]\n",
    "        init_velocity = [p.velocity.copy() for p in particle_system.particles]        \n",
    "        \n",
    "        particle_system.evaluate_derivative()\n",
    "        \n",
    "        # Compute midpoint position and velocity\n",
    "        for p in particle_system.particles:\n",
    "            a = p.force / p.mass\n",
    "            p.velocity = p.velocity + a * time_step / 2\n",
    "            p.position = p.position + p.velocity * time_step / 2\n",
    "        \n",
    "        # Compute forces at midpoint\n",
    "        particle_system.evaluate_derivative()\n",
    "        \n",
    "        # Compute final position and velocity\n",
    "        for i, p in enumerate(particle_system.particles):\n",
    "            a = p.force / p.mass\n",
    "            p.velocity = init_velocity[i] + a * time_step\n",
    "            p.position = init_position[i] + p.velocity * time_step\n",
    "        \n",
    "class RK4(Integrator):\n",
    "    def solve(self, particle_system, time_step):\n",
    "        pass\n"
   ]
  },
  {
   "cell_type": "code",
   "execution_count": null,
   "metadata": {},
   "outputs": [],
   "source": []
  },
  {
   "cell_type": "markdown",
   "metadata": {},
   "source": [
    "# Render"
   ]
  },
  {
   "cell_type": "code",
   "execution_count": null,
   "metadata": {},
   "outputs": [
    {
     "name": "stderr",
     "output_type": "stream",
     "text": [
      "/home/matthew/anaconda3/lib/python3.12/site-packages/pythreejs/traits.py:257: UserWarning: 64-bit data types not supported for WebGL data, casting to 32-bit.\n",
      "  warnings.warn('64-bit data types not supported for WebGL '\n"
     ]
    }
   ],
   "source": [
    "from pythreejs import * \n",
    "from IPython.display import display\n",
    "import ipywidgets as widgetsf\n",
    "from ipyevents import Event\n",
    "\n",
    "camera = OrthographicCamera(\n",
    "    left=-10, right=10, top=10, bottom=-10, near=0.1, far=100\n",
    ")\n",
    "camera.position = [0, 0, 10]  # Place camera in front of the scene.\n",
    "camera.lookAt([0, 0, 0])\n",
    "\n",
    "# Create a scene\n",
    "scene = Scene()\n",
    "\n",
    "\n",
    "# ----------------------------\n",
    "# CREATE THE PARTICLE SYSTEM\n",
    "# ----------------------------\n",
    "\n",
    "# For our 2D particle system we generate a set of particles in the XY plane (with z=0)\n",
    "num_particles = 50\n",
    "positions = np.random.uniform(-5, 5, (num_particles, 3))\n",
    "positions[:, 2] = 0  # Ensure particles lie in the XY plane\n",
    "\n",
    "# Create a BufferGeometry with these positions.\n",
    "geometry = BufferGeometry(\n",
    "    attributes={\n",
    "        'position': BufferAttribute(positions, normalized=False)\n",
    "    }\n",
    ")\n",
    "\n",
    "# Create a PointsMaterial to render the particles (red circles)\n",
    "material = PointsMaterial(color='red', size=10.0)\n",
    "\n",
    "# Create the Points object to add to the scene.\n",
    "points = Points(geometry=geometry, material=material)\n",
    "scene.add(points)\n",
    "\n",
    "\n",
    "# ----------------------------\n",
    "# SET UP THE RENDERER\n",
    "# ----------------------------\n",
    "\n",
    "renderer = Renderer(\n",
    "    scene=scene, \n",
    "    camera=camera, \n",
    "    controls=[OrbitControls(controlling=camera, enableRotate=False)],\n",
    "    width=600, height=600\n",
    ")\n",
    "\n"
   ]
  },
  {
   "cell_type": "code",
   "execution_count": 16,
   "metadata": {},
   "outputs": [
    {
     "data": {
      "application/vnd.jupyter.widget-view+json": {
       "model_id": "311a5ac8855945929e19de8c115d6332",
       "version_major": 2,
       "version_minor": 0
      },
      "text/plain": [
       "Renderer(camera=OrthographicCamera(bottom=-10.0, far=100.0, left=-10.0, position=(0.0, 0.0, 10.0), projectionM…"
      ]
     },
     "metadata": {},
     "output_type": "display_data"
    }
   ],
   "source": [
    "display(renderer)"
   ]
  },
  {
   "cell_type": "code",
   "execution_count": 41,
   "metadata": {},
   "outputs": [
    {
     "data": {
      "application/vnd.jupyter.widget-view+json": {
       "model_id": "abe8c4335068405aa4f9dcc01a0fb328",
       "version_major": 2,
       "version_minor": 0
      },
      "text/plain": [
       "Renderer(camera=OrthographicCamera(bottom=-2.0, far=10.0, left=-2.0, position=(0.0, 0.0, 5.0), projectionMatri…"
      ]
     },
     "metadata": {},
     "output_type": "display_data"
    },
    {
     "data": {
      "application/vnd.jupyter.widget-view+json": {
       "model_id": "2c0ff733af6c437e8c55e43545e49932",
       "version_major": 2,
       "version_minor": 0
      },
      "text/plain": [
       "Output()"
      ]
     },
     "metadata": {},
     "output_type": "display_data"
    }
   ],
   "source": [
    "import numpy as np\n",
    "from pythreejs import *\n",
    "from IPython.display import display\n",
    "from ipywidgets import jslink, Output\n",
    "\n",
    "# Debugging output\n",
    "out = Output()\n",
    "\n",
    "# Create multiple circles (meshes)\n",
    "num_circles = 5\n",
    "circles = []\n",
    "pickers = []\n",
    "colors = ['red', 'blue', 'green', 'yellow', 'purple']\n",
    "positions = [[-1, 1, 0], [1, 1, 0], [-1, -1, 0], [1, -1, 0], [0, 0, 0]]\n",
    "\n",
    "for i in range(num_circles):\n",
    "    circle = Mesh(\n",
    "        geometry=CircleGeometry(radius=0.2),\n",
    "        material=MeshLambertMaterial(color=colors[i]),\n",
    "        position=positions[i]\n",
    "    )\n",
    "    circles.append(circle)\n",
    "\n",
    "# Scene setup\n",
    "scene = Scene(children=circles + [AmbientLight()])\n",
    "camera = OrthographicCamera(left=-2, right=2, top=2, bottom=-2, near=0.1, far=10, position=[0, 0, 5])\n",
    "renderer = Renderer(camera=camera, scene=scene, controls=[])\n",
    "\n",
    "display(renderer, out)  # Display both renderer and debug output widget\n",
    "\n",
    "# Store selected circle\n",
    "selected_circle = None  \n",
    "\n",
    "# Function to track selected circle\n",
    "def on_pick(change):\n",
    "    global selected_circle\n",
    "    selected_circle = change['owner']  # Each picker is attached to a different circle\n",
    "    with out:\n",
    "        print(f\"Selected: {selected_circle.material.color}\")\n",
    "\n",
    "# Function to move the selected circle\n",
    "def on_drag(change):\n",
    "    global selected_circle\n",
    "    if selected_circle:\n",
    "        new_pos = change['new']\n",
    "        selected_circle.position = [new_pos[0], new_pos[1], 0]  # Keep Z = 0 for 2D\n",
    "        with out:\n",
    "            print(f\"Dragging {selected_circle.material.color} to {new_pos}\")\n",
    "\n",
    "# Attach a Picker to each circle\n",
    "for circle in circles:\n",
    "    picker = Picker(controlling=circle, event='mousedown')\n",
    "    move_picker = Picker(controlling=circle, event='mousemove')\n",
    "    \n",
    "    picker.observe(on_pick, names=['object'])  # Select when clicked\n",
    "    move_picker.observe(on_drag, names=['point'])  # Move the selected object\n",
    "    \n",
    "    renderer.controls.append(picker)\n",
    "    renderer.controls.append(move_picker)\n",
    "    \n",
    "    pickers.append(picker)\n",
    "\n"
   ]
  }
 ],
 "metadata": {
  "kernelspec": {
   "display_name": "base",
   "language": "python",
   "name": "python3"
  },
  "language_info": {
   "codemirror_mode": {
    "name": "ipython",
    "version": 3
   },
   "file_extension": ".py",
   "mimetype": "text/x-python",
   "name": "python",
   "nbconvert_exporter": "python",
   "pygments_lexer": "ipython3",
   "version": "3.12.2"
  }
 },
 "nbformat": 4,
 "nbformat_minor": 2
}
