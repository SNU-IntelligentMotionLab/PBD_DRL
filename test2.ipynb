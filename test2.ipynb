{
 "cells": [
  {
   "cell_type": "code",
   "execution_count": 4,
   "metadata": {},
   "outputs": [
    {
     "name": "stdout",
     "output_type": "stream",
     "text": [
      "Collecting pythreejs\n",
      "  Downloading pythreejs-2.4.2-py3-none-any.whl.metadata (5.4 kB)\n",
      "Collecting ipywidgets>=7.2.1 (from pythreejs)\n",
      "  Downloading ipywidgets-8.1.5-py3-none-any.whl.metadata (2.3 kB)\n",
      "Collecting ipydatawidgets>=1.1.1 (from pythreejs)\n",
      "  Downloading ipydatawidgets-4.3.5-py2.py3-none-any.whl.metadata (1.4 kB)\n",
      "Requirement already satisfied: numpy in c:\\users\\bluec\\appdata\\local\\programs\\python\\python312\\lib\\site-packages (from pythreejs) (1.26.4)\n",
      "Requirement already satisfied: traitlets in c:\\users\\bluec\\appdata\\roaming\\python\\python312\\site-packages (from pythreejs) (5.14.3)\n",
      "Collecting traittypes>=0.2.0 (from ipydatawidgets>=1.1.1->pythreejs)\n",
      "  Downloading traittypes-0.2.1-py2.py3-none-any.whl.metadata (1.0 kB)\n",
      "Requirement already satisfied: comm>=0.1.3 in c:\\users\\bluec\\appdata\\roaming\\python\\python312\\site-packages (from ipywidgets>=7.2.1->pythreejs) (0.2.2)\n",
      "Requirement already satisfied: ipython>=6.1.0 in c:\\users\\bluec\\appdata\\roaming\\python\\python312\\site-packages (from ipywidgets>=7.2.1->pythreejs) (8.31.0)\n",
      "Collecting widgetsnbextension~=4.0.12 (from ipywidgets>=7.2.1->pythreejs)\n",
      "  Downloading widgetsnbextension-4.0.13-py3-none-any.whl.metadata (1.6 kB)\n",
      "Collecting jupyterlab-widgets~=3.0.12 (from ipywidgets>=7.2.1->pythreejs)\n",
      "  Downloading jupyterlab_widgets-3.0.13-py3-none-any.whl.metadata (4.1 kB)\n",
      "Requirement already satisfied: colorama in c:\\users\\bluec\\appdata\\roaming\\python\\python312\\site-packages (from ipython>=6.1.0->ipywidgets>=7.2.1->pythreejs) (0.4.6)\n",
      "Requirement already satisfied: decorator in c:\\users\\bluec\\appdata\\roaming\\python\\python312\\site-packages (from ipython>=6.1.0->ipywidgets>=7.2.1->pythreejs) (5.1.1)\n",
      "Requirement already satisfied: jedi>=0.16 in c:\\users\\bluec\\appdata\\roaming\\python\\python312\\site-packages (from ipython>=6.1.0->ipywidgets>=7.2.1->pythreejs) (0.19.2)\n",
      "Requirement already satisfied: matplotlib-inline in c:\\users\\bluec\\appdata\\roaming\\python\\python312\\site-packages (from ipython>=6.1.0->ipywidgets>=7.2.1->pythreejs) (0.1.7)\n",
      "Requirement already satisfied: prompt_toolkit<3.1.0,>=3.0.41 in c:\\users\\bluec\\appdata\\roaming\\python\\python312\\site-packages (from ipython>=6.1.0->ipywidgets>=7.2.1->pythreejs) (3.0.48)\n",
      "Requirement already satisfied: pygments>=2.4.0 in c:\\users\\bluec\\appdata\\roaming\\python\\python312\\site-packages (from ipython>=6.1.0->ipywidgets>=7.2.1->pythreejs) (2.19.1)\n",
      "Requirement already satisfied: stack_data in c:\\users\\bluec\\appdata\\roaming\\python\\python312\\site-packages (from ipython>=6.1.0->ipywidgets>=7.2.1->pythreejs) (0.6.3)\n",
      "Requirement already satisfied: parso<0.9.0,>=0.8.4 in c:\\users\\bluec\\appdata\\roaming\\python\\python312\\site-packages (from jedi>=0.16->ipython>=6.1.0->ipywidgets>=7.2.1->pythreejs) (0.8.4)\n",
      "Requirement already satisfied: wcwidth in c:\\users\\bluec\\appdata\\roaming\\python\\python312\\site-packages (from prompt_toolkit<3.1.0,>=3.0.41->ipython>=6.1.0->ipywidgets>=7.2.1->pythreejs) (0.2.13)\n",
      "Requirement already satisfied: executing>=1.2.0 in c:\\users\\bluec\\appdata\\roaming\\python\\python312\\site-packages (from stack_data->ipython>=6.1.0->ipywidgets>=7.2.1->pythreejs) (2.1.0)\n",
      "Requirement already satisfied: asttokens>=2.1.0 in c:\\users\\bluec\\appdata\\roaming\\python\\python312\\site-packages (from stack_data->ipython>=6.1.0->ipywidgets>=7.2.1->pythreejs) (3.0.0)\n",
      "Requirement already satisfied: pure-eval in c:\\users\\bluec\\appdata\\roaming\\python\\python312\\site-packages (from stack_data->ipython>=6.1.0->ipywidgets>=7.2.1->pythreejs) (0.2.3)\n",
      "Downloading pythreejs-2.4.2-py3-none-any.whl (3.4 MB)\n",
      "   ---------------------------------------- 0.0/3.4 MB ? eta -:--:--\n",
      "   ---------------------------------------- 0.0/3.4 MB ? eta -:--:--\n",
      "    --------------------------------------- 0.1/3.4 MB 812.7 kB/s eta 0:00:05\n",
      "   ------------ --------------------------- 1.0/3.4 MB 9.4 MB/s eta 0:00:01\n",
      "   ---------------------------------------- 3.4/3.4 MB 23.8 MB/s eta 0:00:00\n",
      "Downloading ipydatawidgets-4.3.5-py2.py3-none-any.whl (271 kB)\n",
      "   ---------------------------------------- 0.0/271.7 kB ? eta -:--:--\n",
      "   --------------------------------------- 271.7/271.7 kB 17.4 MB/s eta 0:00:00\n",
      "Downloading ipywidgets-8.1.5-py3-none-any.whl (139 kB)\n",
      "   ---------------------------------------- 0.0/139.8 kB ? eta -:--:--\n",
      "   ---------------------------------------- 139.8/139.8 kB ? eta 0:00:00\n",
      "Downloading jupyterlab_widgets-3.0.13-py3-none-any.whl (214 kB)\n",
      "   ---------------------------------------- 0.0/214.4 kB ? eta -:--:--\n",
      "   --------------------------------------- 214.4/214.4 kB 13.6 MB/s eta 0:00:00\n",
      "Downloading traittypes-0.2.1-py2.py3-none-any.whl (8.6 kB)\n",
      "Downloading widgetsnbextension-4.0.13-py3-none-any.whl (2.3 MB)\n",
      "   ---------------------------------------- 0.0/2.3 MB ? eta -:--:--\n",
      "   ---------------------------------------- 2.3/2.3 MB 72.7 MB/s eta 0:00:00\n",
      "Installing collected packages: widgetsnbextension, traittypes, jupyterlab-widgets, ipywidgets, ipydatawidgets, pythreejs\n",
      "Successfully installed ipydatawidgets-4.3.5 ipywidgets-8.1.5 jupyterlab-widgets-3.0.13 pythreejs-2.4.2 traittypes-0.2.1 widgetsnbextension-4.0.13\n",
      "Note: you may need to restart the kernel to use updated packages.\n"
     ]
    },
    {
     "name": "stderr",
     "output_type": "stream",
     "text": [
      "\n",
      "[notice] A new release of pip is available: 24.0 -> 24.3.1\n",
      "[notice] To update, run: python.exe -m pip install --upgrade pip\n"
     ]
    }
   ],
   "source": [
    "!pip install pythreejs\n",
    "!pip install notebook\n",
    "!pip install jupyter_contrib_nbextensions\n",
    "!jupyter contrib nbextension install --user\n"
   ]
  },
  {
   "cell_type": "code",
   "execution_count": 9,
   "metadata": {},
   "outputs": [
    {
     "data": {
      "application/vnd.jupyter.widget-view+json": {
       "model_id": "bca2c1e88d5a436d8fda0b0b94a76740",
       "version_major": 2,
       "version_minor": 0
      },
      "text/plain": [
       "Renderer(camera=PerspectiveCamera(position=(3.0, 3.0, 3.0), projectionMatrix=(1.0, 0.0, 0.0, 0.0, 0.0, 1.0, 0.…"
      ]
     },
     "metadata": {},
     "output_type": "display_data"
    }
   ],
   "source": [
    "from pythreejs import *\n",
    "from ipywidgets import Layout\n",
    "from IPython.display import display\n",
    "\n",
    "# Create a 3D sphere\n",
    "sphere = Mesh(\n",
    "    geometry=SphereGeometry(radius=1),\n",
    "    material=MeshStandardMaterial(color='red')\n",
    ")\n",
    "\n",
    "# Add lighting\n",
    "light = PointLight(position=[10, 10, 10], intensity=1.5)\n",
    "scene = Scene(children=[sphere, light, AmbientLight(intensity=0.5)])\n",
    "\n",
    "# Set up camera and controls\n",
    "camera = PerspectiveCamera(position=[3, 3, 3], fov=50)\n",
    "controller = OrbitControls(controlling=camera)\n",
    "\n",
    "# Render the scene\n",
    "renderer = Renderer(camera=camera, scene=scene, controls=[controller], width=800, height=600)\n",
    "display(renderer)\n"
   ]
  }
 ],
 "metadata": {
  "kernelspec": {
   "display_name": "Python 3",
   "language": "python",
   "name": "python3"
  },
  "language_info": {
   "codemirror_mode": {
    "name": "ipython",
    "version": 3
   },
   "file_extension": ".py",
   "mimetype": "text/x-python",
   "name": "python",
   "nbconvert_exporter": "python",
   "pygments_lexer": "ipython3",
   "version": "3.12.2"
  }
 },
 "nbformat": 4,
 "nbformat_minor": 2
}
